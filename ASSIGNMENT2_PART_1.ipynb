{
 "cells": [
  {
   "cell_type": "code",
   "execution_count": 3,
   "id": "913cb27d",
   "metadata": {},
   "outputs": [],
   "source": [
    "#importing requried modules\n",
    "import numpy as np\n",
    "import pandas as pd\n",
    "import matplotlib.pyplot as plt\n",
    "import seaborn as sns\n",
    "import scipy as sp\n",
    "#from google.colab import files\n",
    "from sklearn import feature_extraction, model_selection, naive_bayes, metrics, svm\n",
    "from sklearn.ensemble import RandomForestClassifier\n",
    "from sklearn.model_selection import train_test_split\n",
    "from sklearn.metrics import precision_recall_fscore_support as score\n",
    "%matplotlib inline\n"
   ]
  },
  {
   "cell_type": "code",
   "execution_count": null,
   "id": "bf1e805d",
   "metadata": {},
   "outputs": [],
   "source": [
    "#conda install google.colab"
   ]
  },
  {
   "cell_type": "code",
   "execution_count": 4,
   "id": "5da82a98",
   "metadata": {},
   "outputs": [],
   "source": [
    "#uploaded = files.upload()\n",
    "dataset = pd.read_csv('spam.csv')"
   ]
  },
  {
   "cell_type": "code",
   "execution_count": 5,
   "id": "a6751e77",
   "metadata": {},
   "outputs": [
    {
     "data": {
      "text/html": [
       "<div>\n",
       "<style scoped>\n",
       "    .dataframe tbody tr th:only-of-type {\n",
       "        vertical-align: middle;\n",
       "    }\n",
       "\n",
       "    .dataframe tbody tr th {\n",
       "        vertical-align: top;\n",
       "    }\n",
       "\n",
       "    .dataframe thead th {\n",
       "        text-align: right;\n",
       "    }\n",
       "</style>\n",
       "<table border=\"1\" class=\"dataframe\">\n",
       "  <thead>\n",
       "    <tr style=\"text-align: right;\">\n",
       "      <th></th>\n",
       "      <th>v1</th>\n",
       "      <th>v2</th>\n",
       "      <th>Unnamed: 2</th>\n",
       "      <th>Unnamed: 3</th>\n",
       "      <th>Unnamed: 4</th>\n",
       "    </tr>\n",
       "  </thead>\n",
       "  <tbody>\n",
       "    <tr>\n",
       "      <th>0</th>\n",
       "      <td>ham</td>\n",
       "      <td>Go until jurong point, crazy.. Available only ...</td>\n",
       "      <td>NaN</td>\n",
       "      <td>NaN</td>\n",
       "      <td>NaN</td>\n",
       "    </tr>\n",
       "    <tr>\n",
       "      <th>1</th>\n",
       "      <td>ham</td>\n",
       "      <td>Ok lar... Joking wif u oni...</td>\n",
       "      <td>NaN</td>\n",
       "      <td>NaN</td>\n",
       "      <td>NaN</td>\n",
       "    </tr>\n",
       "    <tr>\n",
       "      <th>2</th>\n",
       "      <td>spam</td>\n",
       "      <td>Free entry in 2 a wkly comp to win FA Cup fina...</td>\n",
       "      <td>NaN</td>\n",
       "      <td>NaN</td>\n",
       "      <td>NaN</td>\n",
       "    </tr>\n",
       "    <tr>\n",
       "      <th>3</th>\n",
       "      <td>ham</td>\n",
       "      <td>U dun say so early hor... U c already then say...</td>\n",
       "      <td>NaN</td>\n",
       "      <td>NaN</td>\n",
       "      <td>NaN</td>\n",
       "    </tr>\n",
       "    <tr>\n",
       "      <th>4</th>\n",
       "      <td>ham</td>\n",
       "      <td>Nah I don't think he goes to usf, he lives aro...</td>\n",
       "      <td>NaN</td>\n",
       "      <td>NaN</td>\n",
       "      <td>NaN</td>\n",
       "    </tr>\n",
       "  </tbody>\n",
       "</table>\n",
       "</div>"
      ],
      "text/plain": [
       "     v1                                                 v2 Unnamed: 2  \\\n",
       "0   ham  Go until jurong point, crazy.. Available only ...        NaN   \n",
       "1   ham                      Ok lar... Joking wif u oni...        NaN   \n",
       "2  spam  Free entry in 2 a wkly comp to win FA Cup fina...        NaN   \n",
       "3   ham  U dun say so early hor... U c already then say...        NaN   \n",
       "4   ham  Nah I don't think he goes to usf, he lives aro...        NaN   \n",
       "\n",
       "  Unnamed: 3 Unnamed: 4  \n",
       "0        NaN        NaN  \n",
       "1        NaN        NaN  \n",
       "2        NaN        NaN  \n",
       "3        NaN        NaN  \n",
       "4        NaN        NaN  "
      ]
     },
     "execution_count": 5,
     "metadata": {},
     "output_type": "execute_result"
    }
   ],
   "source": [
    "dataset.head()"
   ]
  },
  {
   "cell_type": "code",
   "execution_count": 6,
   "id": "34d4e8be",
   "metadata": {},
   "outputs": [],
   "source": [
    "#removing unnamed columns\n",
    "dataset = dataset.drop('Unnamed: 2', 1)\n",
    "dataset = dataset.drop('Unnamed: 3', 1)\n",
    "dataset = dataset.drop('Unnamed: 4', 1)"
   ]
  },
  {
   "cell_type": "code",
   "execution_count": 7,
   "id": "0bbc565a",
   "metadata": {},
   "outputs": [
    {
     "data": {
      "text/html": [
       "<div>\n",
       "<style scoped>\n",
       "    .dataframe tbody tr th:only-of-type {\n",
       "        vertical-align: middle;\n",
       "    }\n",
       "\n",
       "    .dataframe tbody tr th {\n",
       "        vertical-align: top;\n",
       "    }\n",
       "\n",
       "    .dataframe thead th {\n",
       "        text-align: right;\n",
       "    }\n",
       "</style>\n",
       "<table border=\"1\" class=\"dataframe\">\n",
       "  <thead>\n",
       "    <tr style=\"text-align: right;\">\n",
       "      <th></th>\n",
       "      <th>v1</th>\n",
       "      <th>v2</th>\n",
       "    </tr>\n",
       "  </thead>\n",
       "  <tbody>\n",
       "    <tr>\n",
       "      <th>0</th>\n",
       "      <td>ham</td>\n",
       "      <td>Go until jurong point, crazy.. Available only ...</td>\n",
       "    </tr>\n",
       "    <tr>\n",
       "      <th>1</th>\n",
       "      <td>ham</td>\n",
       "      <td>Ok lar... Joking wif u oni...</td>\n",
       "    </tr>\n",
       "    <tr>\n",
       "      <th>2</th>\n",
       "      <td>spam</td>\n",
       "      <td>Free entry in 2 a wkly comp to win FA Cup fina...</td>\n",
       "    </tr>\n",
       "    <tr>\n",
       "      <th>3</th>\n",
       "      <td>ham</td>\n",
       "      <td>U dun say so early hor... U c already then say...</td>\n",
       "    </tr>\n",
       "    <tr>\n",
       "      <th>4</th>\n",
       "      <td>ham</td>\n",
       "      <td>Nah I don't think he goes to usf, he lives aro...</td>\n",
       "    </tr>\n",
       "  </tbody>\n",
       "</table>\n",
       "</div>"
      ],
      "text/plain": [
       "     v1                                                 v2\n",
       "0   ham  Go until jurong point, crazy.. Available only ...\n",
       "1   ham                      Ok lar... Joking wif u oni...\n",
       "2  spam  Free entry in 2 a wkly comp to win FA Cup fina...\n",
       "3   ham  U dun say so early hor... U c already then say...\n",
       "4   ham  Nah I don't think he goes to usf, he lives aro..."
      ]
     },
     "execution_count": 7,
     "metadata": {},
     "output_type": "execute_result"
    }
   ],
   "source": [
    "dataset.head()"
   ]
  },
  {
   "cell_type": "code",
   "execution_count": 8,
   "id": "95d4eb71",
   "metadata": {},
   "outputs": [],
   "source": [
    "dataset = dataset.rename(columns = {'v1':'label','v2':'message'})\n"
   ]
  },
  {
   "cell_type": "code",
   "execution_count": 9,
   "id": "5aa50b20",
   "metadata": {},
   "outputs": [
    {
     "data": {
      "text/html": [
       "<div>\n",
       "<style scoped>\n",
       "    .dataframe tbody tr th:only-of-type {\n",
       "        vertical-align: middle;\n",
       "    }\n",
       "\n",
       "    .dataframe tbody tr th {\n",
       "        vertical-align: top;\n",
       "    }\n",
       "\n",
       "    .dataframe thead tr th {\n",
       "        text-align: left;\n",
       "    }\n",
       "\n",
       "    .dataframe thead tr:last-of-type th {\n",
       "        text-align: right;\n",
       "    }\n",
       "</style>\n",
       "<table border=\"1\" class=\"dataframe\">\n",
       "  <thead>\n",
       "    <tr>\n",
       "      <th></th>\n",
       "      <th colspan=\"4\" halign=\"left\">message</th>\n",
       "    </tr>\n",
       "    <tr>\n",
       "      <th></th>\n",
       "      <th>count</th>\n",
       "      <th>unique</th>\n",
       "      <th>top</th>\n",
       "      <th>freq</th>\n",
       "    </tr>\n",
       "    <tr>\n",
       "      <th>label</th>\n",
       "      <th></th>\n",
       "      <th></th>\n",
       "      <th></th>\n",
       "      <th></th>\n",
       "    </tr>\n",
       "  </thead>\n",
       "  <tbody>\n",
       "    <tr>\n",
       "      <th>ham</th>\n",
       "      <td>4825</td>\n",
       "      <td>4516</td>\n",
       "      <td>Sorry, I'll call later</td>\n",
       "      <td>30</td>\n",
       "    </tr>\n",
       "    <tr>\n",
       "      <th>spam</th>\n",
       "      <td>747</td>\n",
       "      <td>653</td>\n",
       "      <td>Please call our customer service representativ...</td>\n",
       "      <td>4</td>\n",
       "    </tr>\n",
       "  </tbody>\n",
       "</table>\n",
       "</div>"
      ],
      "text/plain": [
       "      message                                                               \n",
       "        count unique                                                top freq\n",
       "label                                                                       \n",
       "ham      4825   4516                             Sorry, I'll call later   30\n",
       "spam      747    653  Please call our customer service representativ...    4"
      ]
     },
     "execution_count": 9,
     "metadata": {},
     "output_type": "execute_result"
    }
   ],
   "source": [
    "dataset.groupby('label').describe()"
   ]
  },
  {
   "cell_type": "code",
   "execution_count": 10,
   "id": "a6c34a5d",
   "metadata": {},
   "outputs": [
    {
     "data": {
      "text/html": [
       "<div>\n",
       "<style scoped>\n",
       "    .dataframe tbody tr th:only-of-type {\n",
       "        vertical-align: middle;\n",
       "    }\n",
       "\n",
       "    .dataframe tbody tr th {\n",
       "        vertical-align: top;\n",
       "    }\n",
       "\n",
       "    .dataframe thead th {\n",
       "        text-align: right;\n",
       "    }\n",
       "</style>\n",
       "<table border=\"1\" class=\"dataframe\">\n",
       "  <thead>\n",
       "    <tr style=\"text-align: right;\">\n",
       "      <th></th>\n",
       "      <th>label</th>\n",
       "      <th>message</th>\n",
       "    </tr>\n",
       "  </thead>\n",
       "  <tbody>\n",
       "    <tr>\n",
       "      <th>0</th>\n",
       "      <td>ham</td>\n",
       "      <td>Go until jurong point, crazy.. Available only ...</td>\n",
       "    </tr>\n",
       "    <tr>\n",
       "      <th>1</th>\n",
       "      <td>ham</td>\n",
       "      <td>Ok lar... Joking wif u oni...</td>\n",
       "    </tr>\n",
       "    <tr>\n",
       "      <th>2</th>\n",
       "      <td>spam</td>\n",
       "      <td>Free entry in 2 a wkly comp to win FA Cup fina...</td>\n",
       "    </tr>\n",
       "    <tr>\n",
       "      <th>3</th>\n",
       "      <td>ham</td>\n",
       "      <td>U dun say so early hor... U c already then say...</td>\n",
       "    </tr>\n",
       "  </tbody>\n",
       "</table>\n",
       "</div>"
      ],
      "text/plain": [
       "  label                                            message\n",
       "0   ham  Go until jurong point, crazy.. Available only ...\n",
       "1   ham                      Ok lar... Joking wif u oni...\n",
       "2  spam  Free entry in 2 a wkly comp to win FA Cup fina...\n",
       "3   ham  U dun say so early hor... U c already then say..."
      ]
     },
     "execution_count": 10,
     "metadata": {},
     "output_type": "execute_result"
    }
   ],
   "source": [
    "dataset.head(4)"
   ]
  },
  {
   "cell_type": "code",
   "execution_count": 12,
   "id": "9bda0e6d",
   "metadata": {},
   "outputs": [
    {
     "data": {
      "image/png": "[encoded data removed]",
      "text/plain": [
       "<Figure size 432x288 with 1 Axes>"
      ]
     },
     "metadata": {
      "needs_background": "light"
     },
     "output_type": "display_data"
    }
   ],
   "source": [
    "count = pd.value_counts(dataset[\"label\"],sort=True)\n",
    "count.plot(kind=\"bar\",color=[\"red\",\"blue\"])\n",
    "plt.plot('Bar plot')\n",
    "plt.show()"
   ]
  },
  {
   "cell_type": "code",
   "execution_count": 13,
   "id": "95bc965f",
   "metadata": {},
   "outputs": [
    {
     "data": {
      "text/plain": [
       "(5572, 8357)"
      ]
     },
     "execution_count": 13,
     "metadata": {},
     "output_type": "execute_result"
    }
   ],
   "source": [
    "f = feature_extraction.text.CountVectorizer(stop_words ='english')\n",
    "X = f.fit_transform(dataset[\"message\"])\n",
    "np.shape(X)"
   ]
  },
  {
   "cell_type": "code",
   "execution_count": 14,
   "id": "59b5e01d",
   "metadata": {},
   "outputs": [],
   "source": [
    "dataset[\"label\"]= dataset[\"label\"].map({\"spam\":1,\"ham\":0})\n",
    "X_train,X_test, y_train, y_test = model_selection.train_test_split(X, dataset['label'], test_size=0.70, random_state=42)"
   ]
  },
  {
   "cell_type": "code",
   "execution_count": 16,
   "id": "03d39ae5",
   "metadata": {},
   "outputs": [],
   "source": [
    "list_alpha = np.arange(1/100000, 20, 0.11)\n",
    "score_train = np.zeros(len(list_alpha))\n",
    "score_test = np.zeros(len(list_alpha))\n",
    "recall_test = np.zeros(len(list_alpha))\n",
    "precision_test= np.zeros(len(list_alpha))\n",
    "count = 0\n",
    "for alpha in list_alpha:\n",
    "    bayes = naive_bayes.MultinomialNB(alpha=alpha)\n",
    "    bayes.fit(X_train, y_train)\n",
    "    score_train[count] = bayes.score(X_train, y_train)\n",
    "    score_test[count]= bayes.score(X_test, y_test)\n",
    "    recall_test[count] = metrics.recall_score(y_test, bayes.predict(X_test))\n",
    "    precision_test[count] = metrics.precision_score(y_test, bayes.predict(X_test))\n",
    "    count = count + 1 "
   ]
  },
  {
   "cell_type": "code",
   "execution_count": 17,
   "id": "f63a3e3d",
   "metadata": {},
   "outputs": [
    {
     "data": {
      "text/html": [
       "<div>\n",
       "<style scoped>\n",
       "    .dataframe tbody tr th:only-of-type {\n",
       "        vertical-align: middle;\n",
       "    }\n",
       "\n",
       "    .dataframe tbody tr th {\n",
       "        vertical-align: top;\n",
       "    }\n",
       "\n",
       "    .dataframe thead th {\n",
       "        text-align: right;\n",
       "    }\n",
       "</style>\n",
       "<table border=\"1\" class=\"dataframe\">\n",
       "  <thead>\n",
       "    <tr style=\"text-align: right;\">\n",
       "      <th></th>\n",
       "      <th>alpha</th>\n",
       "      <th>Train Accuracy</th>\n",
       "      <th>Test Accuracy</th>\n",
       "      <th>Test Recall</th>\n",
       "      <th>Test Precision</th>\n",
       "    </tr>\n",
       "  </thead>\n",
       "  <tbody>\n",
       "    <tr>\n",
       "      <th>0</th>\n",
       "      <td>0.00001</td>\n",
       "      <td>0.998803</td>\n",
       "      <td>0.961548</td>\n",
       "      <td>0.913793</td>\n",
       "      <td>0.819588</td>\n",
       "    </tr>\n",
       "    <tr>\n",
       "      <th>1</th>\n",
       "      <td>0.11001</td>\n",
       "      <td>0.998803</td>\n",
       "      <td>0.965650</td>\n",
       "      <td>0.944444</td>\n",
       "      <td>0.824415</td>\n",
       "    </tr>\n",
       "    <tr>\n",
       "      <th>2</th>\n",
       "      <td>0.22001</td>\n",
       "      <td>0.999402</td>\n",
       "      <td>0.967444</td>\n",
       "      <td>0.938697</td>\n",
       "      <td>0.837607</td>\n",
       "    </tr>\n",
       "    <tr>\n",
       "      <th>3</th>\n",
       "      <td>0.33001</td>\n",
       "      <td>0.999402</td>\n",
       "      <td>0.968470</td>\n",
       "      <td>0.938697</td>\n",
       "      <td>0.843373</td>\n",
       "    </tr>\n",
       "    <tr>\n",
       "      <th>4</th>\n",
       "      <td>0.44001</td>\n",
       "      <td>0.999402</td>\n",
       "      <td>0.971289</td>\n",
       "      <td>0.927203</td>\n",
       "      <td>0.867384</td>\n",
       "    </tr>\n",
       "    <tr>\n",
       "      <th>5</th>\n",
       "      <td>0.55001</td>\n",
       "      <td>0.998803</td>\n",
       "      <td>0.975904</td>\n",
       "      <td>0.923372</td>\n",
       "      <td>0.899254</td>\n",
       "    </tr>\n",
       "    <tr>\n",
       "      <th>6</th>\n",
       "      <td>0.66001</td>\n",
       "      <td>0.998803</td>\n",
       "      <td>0.976673</td>\n",
       "      <td>0.919540</td>\n",
       "      <td>0.907372</td>\n",
       "    </tr>\n",
       "    <tr>\n",
       "      <th>7</th>\n",
       "      <td>0.77001</td>\n",
       "      <td>0.997606</td>\n",
       "      <td>0.977698</td>\n",
       "      <td>0.917625</td>\n",
       "      <td>0.915870</td>\n",
       "    </tr>\n",
       "    <tr>\n",
       "      <th>8</th>\n",
       "      <td>0.88001</td>\n",
       "      <td>0.997606</td>\n",
       "      <td>0.978211</td>\n",
       "      <td>0.909962</td>\n",
       "      <td>0.925926</td>\n",
       "    </tr>\n",
       "    <tr>\n",
       "      <th>9</th>\n",
       "      <td>0.99001</td>\n",
       "      <td>0.997606</td>\n",
       "      <td>0.978211</td>\n",
       "      <td>0.902299</td>\n",
       "      <td>0.932673</td>\n",
       "    </tr>\n",
       "  </tbody>\n",
       "</table>\n",
       "</div>"
      ],
      "text/plain": [
       "     alpha  Train Accuracy  Test Accuracy  Test Recall  Test Precision\n",
       "0  0.00001        0.998803       0.961548     0.913793        0.819588\n",
       "1  0.11001        0.998803       0.965650     0.944444        0.824415\n",
       "2  0.22001        0.999402       0.967444     0.938697        0.837607\n",
       "3  0.33001        0.999402       0.968470     0.938697        0.843373\n",
       "4  0.44001        0.999402       0.971289     0.927203        0.867384\n",
       "5  0.55001        0.998803       0.975904     0.923372        0.899254\n",
       "6  0.66001        0.998803       0.976673     0.919540        0.907372\n",
       "7  0.77001        0.997606       0.977698     0.917625        0.915870\n",
       "8  0.88001        0.997606       0.978211     0.909962        0.925926\n",
       "9  0.99001        0.997606       0.978211     0.902299        0.932673"
      ]
     },
     "execution_count": 17,
     "metadata": {},
     "output_type": "execute_result"
    }
   ],
   "source": [
    "matrix = np.matrix(np.c_[list_alpha, score_train, score_test, recall_test, precision_test])\n",
    "models = pd.DataFrame(data = matrix, columns = \n",
    "             ['alpha', 'Train Accuracy', 'Test Accuracy', 'Test Recall', 'Test Precision'])\n",
    "models.head(n=10)"
   ]
  },
  {
   "cell_type": "code",
   "execution_count": 18,
   "id": "fd6a41d9",
   "metadata": {},
   "outputs": [
    {
     "data": {
      "text/plain": [
       "alpha             10.560010\n",
       "Train Accuracy     0.977259\n",
       "Test Accuracy      0.962830\n",
       "Test Recall        0.722222\n",
       "Test Precision     1.000000\n",
       "Name: 96, dtype: float64"
      ]
     },
     "execution_count": 18,
     "metadata": {},
     "output_type": "execute_result"
    }
   ],
   "source": [
    "best_index = models['Test Precision'].idxmax()\n",
    "models.iloc[best_index,:]"
   ]
  },
  {
   "cell_type": "code",
   "execution_count": 20,
   "id": "038eb6e0",
   "metadata": {},
   "outputs": [],
   "source": [
    "#Random Forest Method\n",
    "rf = RandomForestClassifier(n_estimators=100,max_depth=None,n_jobs=-1)\n",
    "rf_model = rf.fit(X_train,y_train)"
   ]
  },
  {
   "cell_type": "code",
   "execution_count": 22,
   "id": "17152e66",
   "metadata": {},
   "outputs": [
    {
     "name": "stdout",
     "output_type": "stream",
     "text": [
      "Precision : 0.995 / Recall : 0.738 / fscore : 0.847 / Accuracy: 0.964\n"
     ]
    }
   ],
   "source": [
    "y_pred = rf_model.predict(X_test)\n",
    "precision,recall,fscore,support =score(y_test,y_pred,pos_label=1, average ='binary')\n",
    "print('Precision : {} / Recall : {} / fscore : {} / Accuracy: {}'.format(round(precision,3),round(recall,3),round(fscore,3),round((y_pred==y_test).sum()/len(y_test),3)))\n"
   ]
  },
  {
   "cell_type": "code",
   "execution_count": 27,
   "id": "b437a7a2",
   "metadata": {},
   "outputs": [
    {
     "name": "stdout",
     "output_type": "stream",
     "text": [
      "^C\n",
      "\n",
      "Note: you may need to restart the kernel to use updated packages.\n"
     ]
    }
   ],
   "source": [
    "conda install keras"
   ]
  },
  {
   "cell_type": "code",
   "execution_count": 28,
   "id": "547ec20a",
   "metadata": {},
   "outputs": [],
   "source": [
    "#Using NLP using and TensorFlow\n",
    "import tensorflow as tf\n",
    "from tensorflow.keras.preprocessing.text import Tokenizer\n",
    "from tensorflow.keras.layers import Embedding, LSTM, Dropout, Dense\n",
    "from tensorflow.keras.models import Sequential\n",
    "from tensorflow.keras.utils import to_categorical\n",
    "from tensorflow.keras.preprocessing.sequence import pad_sequences\n",
    "import tensorflow as tf"
   ]
  },
  {
   "cell_type": "code",
   "execution_count": 29,
   "id": "cfdd6663",
   "metadata": {},
   "outputs": [],
   "source": [
    "vocab_size = 400\n",
    "oov_tok = \"<OOV>\"\n",
    "max_length = 250\n",
    "embedding_dim = 16\n",
    "encode = ({'ham': 0, 'spam': 1} )\n",
    "#new dataset with replaced values\n",
    "dataset = dataset.replace(encode)"
   ]
  },
  {
   "cell_type": "code",
   "execution_count": 30,
   "id": "9c2d23f5",
   "metadata": {},
   "outputs": [],
   "source": [
    "X = dataset['message']\n",
    "Y = dataset['label']\n",
    "tokenizer = Tokenizer(num_words=vocab_size, oov_token=oov_tok)\n",
    "tokenizer.fit_on_texts(X)\n",
    "# convert to sequence of integers\n",
    "X = tokenizer.texts_to_sequences(X)"
   ]
  },
  {
   "cell_type": "code",
   "execution_count": 31,
   "id": "421d88af",
   "metadata": {},
   "outputs": [
    {
     "name": "stderr",
     "output_type": "stream",
     "text": [
      "<ipython-input-31-67c34fac1eac>:1: VisibleDeprecationWarning: Creating an ndarray from ragged nested sequences (which is a list-or-tuple of lists-or-tuples-or ndarrays with different lengths or shapes) is deprecated. If you meant to do this, you must specify 'dtype=object' when creating the ndarray.\n",
      "  X = np.array(X)\n"
     ]
    }
   ],
   "source": [
    "X = np.array(X)\n",
    "y = np.array(Y)"
   ]
  },
  {
   "cell_type": "code",
   "execution_count": 32,
   "id": "05975fd4",
   "metadata": {},
   "outputs": [],
   "source": [
    "X = pad_sequences(X, maxlen=max_length)"
   ]
  },
  {
   "cell_type": "code",
   "execution_count": 33,
   "id": "8bc39355",
   "metadata": {},
   "outputs": [
    {
     "name": "stdout",
     "output_type": "stream",
     "text": [
      "Model: \"sequential\"\n",
      "_________________________________________________________________\n",
      "Layer (type)                 Output Shape              Param #   \n",
      "=================================================================\n",
      "embedding (Embedding)        (None, 250, 16)           6400      \n",
      "_________________________________________________________________\n",
      "global_average_pooling1d (Gl (None, 16)                0         \n",
      "_________________________________________________________________\n",
      "dense (Dense)                (None, 24)                408       \n",
      "_________________________________________________________________\n",
      "dense_1 (Dense)              (None, 1)                 25        \n",
      "=================================================================\n",
      "Total params: 6,833\n",
      "Trainable params: 6,833\n",
      "Non-trainable params: 0\n",
      "_________________________________________________________________\n"
     ]
    }
   ],
   "source": [
    "model = tf.keras.Sequential([\n",
    "    tf.keras.layers.Embedding(vocab_size, embedding_dim, input_length=max_length),\n",
    "    tf.keras.layers.GlobalAveragePooling1D(),\n",
    "    tf.keras.layers.Dense(24, activation='relu'),\n",
    "    tf.keras.layers.Dense(1, activation='sigmoid')\n",
    "])\n",
    "model.compile(loss='binary_crossentropy',optimizer='adam',metrics=['accuracy'])\n",
    "model.summary()"
   ]
  },
  {
   "cell_type": "code",
   "execution_count": 34,
   "id": "7f33cb91",
   "metadata": {},
   "outputs": [
    {
     "name": "stdout",
     "output_type": "stream",
     "text": [
      "Epoch 1/50\n",
      "140/140 - 1s - loss: 0.5211 - accuracy: 0.8510 - val_loss: 0.3845 - val_accuracy: 0.8700\n",
      "Epoch 2/50\n",
      "140/140 - 0s - loss: 0.3826 - accuracy: 0.8649 - val_loss: 0.3678 - val_accuracy: 0.8700\n",
      "Epoch 3/50\n",
      "140/140 - 0s - loss: 0.3710 - accuracy: 0.8649 - val_loss: 0.3552 - val_accuracy: 0.8700\n",
      "Epoch 4/50\n",
      "140/140 - 0s - loss: 0.3528 - accuracy: 0.8649 - val_loss: 0.3303 - val_accuracy: 0.8700\n",
      "Epoch 5/50\n",
      "140/140 - 0s - loss: 0.3182 - accuracy: 0.8649 - val_loss: 0.2883 - val_accuracy: 0.8700\n",
      "Epoch 6/50\n",
      "140/140 - 0s - loss: 0.2664 - accuracy: 0.8649 - val_loss: 0.2313 - val_accuracy: 0.8700\n",
      "Epoch 7/50\n",
      "140/140 - 0s - loss: 0.2176 - accuracy: 0.8649 - val_loss: 0.1924 - val_accuracy: 0.8700\n",
      "Epoch 8/50\n",
      "140/140 - 0s - loss: 0.1903 - accuracy: 0.8791 - val_loss: 0.1739 - val_accuracy: 0.9426\n",
      "Epoch 9/50\n",
      "140/140 - 0s - loss: 0.1760 - accuracy: 0.9430 - val_loss: 0.1613 - val_accuracy: 0.9498\n",
      "Epoch 10/50\n",
      "140/140 - 0s - loss: 0.1652 - accuracy: 0.9515 - val_loss: 0.1519 - val_accuracy: 0.9516\n",
      "Epoch 11/50\n",
      "140/140 - 0s - loss: 0.1564 - accuracy: 0.9558 - val_loss: 0.1441 - val_accuracy: 0.9623\n",
      "Epoch 12/50\n",
      "140/140 - 0s - loss: 0.1482 - accuracy: 0.9605 - val_loss: 0.1375 - val_accuracy: 0.9650\n",
      "Epoch 13/50\n",
      "140/140 - 0s - loss: 0.1408 - accuracy: 0.9643 - val_loss: 0.1299 - val_accuracy: 0.9650\n",
      "Epoch 14/50\n",
      "140/140 - 0s - loss: 0.1341 - accuracy: 0.9670 - val_loss: 0.1238 - val_accuracy: 0.9677\n",
      "Epoch 15/50\n",
      "140/140 - 0s - loss: 0.1274 - accuracy: 0.9690 - val_loss: 0.1174 - val_accuracy: 0.9695\n",
      "Epoch 16/50\n",
      "140/140 - 0s - loss: 0.1213 - accuracy: 0.9693 - val_loss: 0.1117 - val_accuracy: 0.9722\n",
      "Epoch 17/50\n",
      "140/140 - 0s - loss: 0.1153 - accuracy: 0.9715 - val_loss: 0.1058 - val_accuracy: 0.9722\n",
      "Epoch 18/50\n",
      "140/140 - 0s - loss: 0.1101 - accuracy: 0.9731 - val_loss: 0.1009 - val_accuracy: 0.9749\n",
      "Epoch 19/50\n",
      "140/140 - 0s - loss: 0.1047 - accuracy: 0.9742 - val_loss: 0.0966 - val_accuracy: 0.9767\n",
      "Epoch 20/50\n",
      "140/140 - 0s - loss: 0.1008 - accuracy: 0.9742 - val_loss: 0.0915 - val_accuracy: 0.9785\n",
      "Epoch 21/50\n",
      "140/140 - 0s - loss: 0.0952 - accuracy: 0.9776 - val_loss: 0.0879 - val_accuracy: 0.9803\n",
      "Epoch 22/50\n",
      "140/140 - 0s - loss: 0.0914 - accuracy: 0.9769 - val_loss: 0.0847 - val_accuracy: 0.9830\n",
      "Epoch 23/50\n",
      "140/140 - 0s - loss: 0.0872 - accuracy: 0.9789 - val_loss: 0.0800 - val_accuracy: 0.9812\n",
      "Epoch 24/50\n",
      "140/140 - 0s - loss: 0.0835 - accuracy: 0.9807 - val_loss: 0.0775 - val_accuracy: 0.9821\n",
      "Epoch 25/50\n",
      "140/140 - 0s - loss: 0.0815 - accuracy: 0.9800 - val_loss: 0.0746 - val_accuracy: 0.9839\n",
      "Epoch 26/50\n",
      "140/140 - 0s - loss: 0.0777 - accuracy: 0.9825 - val_loss: 0.0716 - val_accuracy: 0.9848\n",
      "Epoch 27/50\n",
      "140/140 - 0s - loss: 0.0749 - accuracy: 0.9823 - val_loss: 0.0694 - val_accuracy: 0.9839\n",
      "Epoch 28/50\n",
      "140/140 - 0s - loss: 0.0723 - accuracy: 0.9836 - val_loss: 0.0674 - val_accuracy: 0.9839\n",
      "Epoch 29/50\n",
      "140/140 - 0s - loss: 0.0699 - accuracy: 0.9834 - val_loss: 0.0658 - val_accuracy: 0.9848\n",
      "Epoch 30/50\n",
      "140/140 - 0s - loss: 0.0682 - accuracy: 0.9832 - val_loss: 0.0633 - val_accuracy: 0.9892\n",
      "Epoch 31/50\n",
      "140/140 - 0s - loss: 0.0662 - accuracy: 0.9847 - val_loss: 0.0630 - val_accuracy: 0.9857\n",
      "Epoch 32/50\n",
      "140/140 - 0s - loss: 0.0642 - accuracy: 0.9854 - val_loss: 0.0621 - val_accuracy: 0.9857\n",
      "Epoch 33/50\n",
      "140/140 - 0s - loss: 0.0628 - accuracy: 0.9845 - val_loss: 0.0588 - val_accuracy: 0.9892\n",
      "Epoch 34/50\n",
      "140/140 - 0s - loss: 0.0603 - accuracy: 0.9850 - val_loss: 0.0576 - val_accuracy: 0.9883\n",
      "Epoch 35/50\n",
      "140/140 - 0s - loss: 0.0597 - accuracy: 0.9852 - val_loss: 0.0563 - val_accuracy: 0.9892\n",
      "Epoch 36/50\n",
      "140/140 - 0s - loss: 0.0581 - accuracy: 0.9856 - val_loss: 0.0564 - val_accuracy: 0.9892\n",
      "Epoch 37/50\n",
      "140/140 - 1s - loss: 0.0558 - accuracy: 0.9859 - val_loss: 0.0549 - val_accuracy: 0.9874\n",
      "Epoch 38/50\n",
      "140/140 - 0s - loss: 0.0548 - accuracy: 0.9865 - val_loss: 0.0547 - val_accuracy: 0.9892\n",
      "Epoch 39/50\n",
      "140/140 - 0s - loss: 0.0536 - accuracy: 0.9861 - val_loss: 0.0543 - val_accuracy: 0.9892\n",
      "Epoch 40/50\n",
      "140/140 - 0s - loss: 0.0515 - accuracy: 0.9868 - val_loss: 0.0518 - val_accuracy: 0.9892\n",
      "Epoch 41/50\n",
      "140/140 - 0s - loss: 0.0507 - accuracy: 0.9859 - val_loss: 0.0522 - val_accuracy: 0.9901\n",
      "Epoch 42/50\n",
      "140/140 - 0s - loss: 0.0495 - accuracy: 0.9865 - val_loss: 0.0507 - val_accuracy: 0.9883\n",
      "Epoch 43/50\n",
      "140/140 - 0s - loss: 0.0489 - accuracy: 0.9865 - val_loss: 0.0501 - val_accuracy: 0.9883\n",
      "Epoch 44/50\n",
      "140/140 - 0s - loss: 0.0478 - accuracy: 0.9881 - val_loss: 0.0500 - val_accuracy: 0.9901\n",
      "Epoch 45/50\n",
      "140/140 - 0s - loss: 0.0466 - accuracy: 0.9879 - val_loss: 0.0492 - val_accuracy: 0.9883\n",
      "Epoch 46/50\n",
      "140/140 - 0s - loss: 0.0468 - accuracy: 0.9865 - val_loss: 0.0498 - val_accuracy: 0.9892\n",
      "Epoch 47/50\n",
      "140/140 - 0s - loss: 0.0451 - accuracy: 0.9874 - val_loss: 0.0482 - val_accuracy: 0.9892\n",
      "Epoch 48/50\n",
      "140/140 - 0s - loss: 0.0443 - accuracy: 0.9870 - val_loss: 0.0489 - val_accuracy: 0.9901\n",
      "Epoch 49/50\n",
      "140/140 - 0s - loss: 0.0430 - accuracy: 0.9892 - val_loss: 0.0489 - val_accuracy: 0.9901\n",
      "Epoch 50/50\n",
      "140/140 - 0s - loss: 0.0430 - accuracy: 0.9881 - val_loss: 0.0499 - val_accuracy: 0.9901\n"
     ]
    }
   ],
   "source": [
    "num_epochs = 50\n",
    "X_train, X_test, y_train, y_test = train_test_split(X, Y, test_size=.20, random_state=7)\n",
    "history = model.fit(X_train, y_train, epochs=num_epochs, validation_data=(X_test,y_test), verbose=2)"
   ]
  },
  {
   "cell_type": "code",
   "execution_count": 35,
   "id": "e2b8d46b",
   "metadata": {},
   "outputs": [
    {
     "name": "stdout",
     "output_type": "stream",
     "text": [
      "35/35 [==============================] - 0s 2ms/step - loss: 0.0499 - accuracy: 0.9901\n",
      "[+] Accuracy: 99.01%\n"
     ]
    }
   ],
   "source": [
    "results = model.evaluate(X_test, y_test)\n",
    "loss = results[0]\n",
    "accuracy = results[1]\n",
    "\n",
    "\n",
    "print(f\"[+] Accuracy: {accuracy*100:.2f}%\")"
   ]
  },
  {
   "cell_type": "code",
   "execution_count": 37,
   "id": "be2b626e",
   "metadata": {},
   "outputs": [],
   "source": [
    "from tensorflow.keras.preprocessing import sequence\n"
   ]
  },
  {
   "cell_type": "code",
   "execution_count": 38,
   "id": "c1243179",
   "metadata": {},
   "outputs": [],
   "source": [
    "#Defining the function\n",
    "def get_predictions(txts):\n",
    "    txts = tokenizer.texts_to_sequences(txts)\n",
    "    txts = sequence.pad_sequences(txts, maxlen=max_length)\n",
    "    preds = model.predict(txts)\n",
    "    if(preds[0] > 0.5):\n",
    "        print(\"SPAM MESSAGE\")\n",
    "        \n",
    "    else:\n",
    "        print('NOT SPAM')"
   ]
  },
  {
   "cell_type": "code",
   "execution_count": 39,
   "id": "ae978ed2",
   "metadata": {},
   "outputs": [
    {
     "name": "stdout",
     "output_type": "stream",
     "text": [
      "SPAM MESSAGE\n",
      "None\n",
      "NOT SPAM\n",
      "None\n",
      "Collecting package metadata (current_repodata.json): ...working... done\n",
      "Solving environment: ...working... failed with initial frozen solve. Retrying with flexible solve.\n",
      "Solving environment: ...working... failed with repodata from current_repodata.json, will retry with next repodata source.\n",
      "Collecting package metadata (repodata.json): ...working... done\n",
      "Solving environment: ...working... done\n",
      "\n",
      "## Package Plan ##\n",
      "\n",
      "  environment location: C:\\Users\\monis\\anaconda3\n",
      "\n",
      "  added / updated specs:\n",
      "    - keras\n",
      "\n",
      "\n",
      "The following packages will be downloaded:\n",
      "\n",
      "    package                    |            build\n",
      "    ---------------------------|-----------------\n",
      "    keras-2.4.3                |     pyhd8ed1ab_0          30 KB  conda-forge\n",
      "    ------------------------------------------------------------\n",
      "                                           Total:          30 KB\n",
      "\n",
      "The following NEW packages will be INSTALLED:\n",
      "\n",
      "  keras              conda-forge/noarch::keras-2.4.3-pyhd8ed1ab_0\n",
      "\n",
      "\n",
      "\n",
      "Downloading and Extracting Packages\n",
      "\n",
      "keras-2.4.3          | 30 KB     |            |   0% \n",
      "keras-2.4.3          | 30 KB     | #####3     |  53% \n",
      "keras-2.4.3          | 30 KB     | ########## | 100% \n",
      "keras-2.4.3          | 30 KB     | ########## | 100% \n",
      "Preparing transaction: ...working... done\n",
      "Verifying transaction: ...working... done\n",
      "Executing transaction: ...working... done\n",
      "Retrieving notices: ...working... done\n",
      "Collecting package metadata (current_repodata.json): ...working... done\n",
      "Solving environment: ...working... failed with initial frozen solve. Retrying with flexible solve.\n",
      "Solving environment: ...working... failed with repodata from current_repodata.json, will retry with next repodata source.\n",
      "Collecting package metadata (repodata.json): ...working... done\n",
      "Solving environment: ...working... done\n",
      "\n",
      "## Package Plan ##\n",
      "\n",
      "  environment location: C:\\Users\\monis\\anaconda3\n",
      "\n",
      "  added / updated specs:\n",
      "    - keras\n",
      "\n",
      "\n",
      "The following NEW packages will be INSTALLED:\n",
      "\n",
      "  keras              conda-forge/noarch::keras-2.4.3-pyhd8ed1ab_0\n",
      "\n",
      "\n",
      "Preparing transaction: ...working... done\n",
      "Verifying transaction: ...working... done\n",
      "Executing transaction: ...working... done\n",
      "Retrieving notices: ...working... done\n",
      "Collecting package metadata (current_repodata.json): ...working... done\n",
      "Solving environment: ...working... failed with initial frozen solve. Retrying with flexible solve.\n",
      "Solving environment: ...working... failed with repodata from current_repodata.json, will retry with next repodata source.\n",
      "Collecting package metadata (repodata.json): ...working... done\n",
      "Solving environment: ...working... done\n",
      "\n",
      "## Package Plan ##\n",
      "\n",
      "  environment location: C:\\Users\\monis\\anaconda3\n",
      "\n",
      "  added / updated specs:\n",
      "    - keras\n",
      "\n",
      "\n",
      "The following NEW packages will be INSTALLED:\n",
      "\n",
      "  keras              conda-forge/noarch::keras-2.4.3-pyhd8ed1ab_0\n",
      "\n",
      "\n",
      "Preparing transaction: ...working... done\n",
      "Verifying transaction: ...working... done\n",
      "Executing transaction: ...working... done\n",
      "Retrieving notices: ...working... done\n"
     ]
    }
   ],
   "source": [
    "txts=[\"You have won a free ticket to las vegas. Contact now\"]\n",
    "print(get_predictions(txts))\n",
    "txts=[\"Hey there call me asap!!\"]\n",
    "\n",
    "print(get_predictions(txts))"
   ]
  },
  {
   "cell_type": "code",
   "execution_count": null,
   "id": "3ab972a5",
   "metadata": {},
   "outputs": [],
   "source": []
  }
 ],
 "metadata": {
  "kernelspec": {
   "display_name": "Python 3",
   "language": "python",
   "name": "python3"
  },
  "language_info": {
   "codemirror_mode": {
    "name": "ipython",
    "version": 3
   },
   "file_extension": ".py",
   "mimetype": "text/x-python",
   "name": "python",
   "nbconvert_exporter": "python",
   "pygments_lexer": "ipython3",
   "version": "3.8.8"
  }
 },
 "nbformat": 4,
 "nbformat_minor": 5
}